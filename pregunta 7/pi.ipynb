{
 "cells": [
  {
   "cell_type": "code",
   "execution_count": 15,
   "metadata": {},
   "outputs": [
    {
     "name": "stdout",
     "output_type": "stream",
     "text": [
      "3.141588653589781\n"
     ]
    }
   ],
   "source": [
    "pi = 0\n",
    "c = 0\n",
    "for i in range(1, 500000, 2):\n",
    "    if c % 2 == 0:\n",
    "        pi = pi + 4/i\n",
    "    else: \n",
    "        pi = pi - 4/i\n",
    "    c = c + 1\n",
    "print(pi)"
   ]
  }
 ],
 "metadata": {
  "kernelspec": {
   "display_name": "Python 3",
   "language": "python",
   "name": "python3"
  },
  "language_info": {
   "codemirror_mode": {
    "name": "ipython",
    "version": 3
   },
   "file_extension": ".py",
   "mimetype": "text/x-python",
   "name": "python",
   "nbconvert_exporter": "python",
   "pygments_lexer": "ipython3",
   "version": "3.8.3"
  }
 },
 "nbformat": 4,
 "nbformat_minor": 4
}
